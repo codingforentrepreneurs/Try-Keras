{
  "nbformat": 4,
  "nbformat_minor": 0,
  "metadata": {
    "colab": {
      "name": "Try Keras - Start Here.ipynb",
      "provenance": [],
      "collapsed_sections": []
    },
    "kernelspec": {
      "name": "python3",
      "display_name": "Python 3"
    }
  },
  "cells": [
    {
      "cell_type": "markdown",
      "metadata": {
        "id": "sXpRAifOCWe5",
        "colab_type": "text"
      },
      "source": [
        "# Try Keras\n",
        "This is the starter notebook for the [Try Keras](https://www.codingforentrepreneurs.com/projects/try-keras) tutorial series.", "\n", "[Run on Google Colab](https://colab.research.google.com/github/codingforentrepreneurs/Try-Keras/blob/master/notebooks/Try_Keras_Start_Here.ipynb)"
      ]
    },
    {
      "cell_type": "markdown",
      "metadata": {
        "id": "YutY7pbQEKMa",
        "colab_type": "text"
      },
      "source": [
        "## Download and Unzip our Dataset\n",
        "\n",
        "We have provided the starter dataset for this series. You can always use your own dataset once you get the basics and you can use a lot of the methods below download and unzip your dataset too.\n",
        "\n",
        "All datasets are available on [this Google Drive folder](https://drive.google.com/drive/folders/1YzioLo90Th2RpwmTCtv-YrO79Hjlyz2k?usp=sharing). Datasets were generated using [Tight.ai Desktop](https://tight.ai) _coming soon_."
      ]
    },
    {
      "cell_type": "code",
      "metadata": {
        "id": "54fYnBQQANBF",
        "colab_type": "code",
        "colab": {}
      },
      "source": [
        "DATASET_NAME = \"hot-dog-v-not-hot-dog\"\n",
        "DATASET_ZIP = f\"{DATASET_NAME}.zip\"\n",
        "DATASET_URL = f\"https://s3.amazonaws.com/datasets.tight.ai/tutorials/try-keras/{DATASET_ZIP}\""
      ],
      "execution_count": 33,
      "outputs": []
    },
    {
      "cell_type": "markdown",
      "metadata": {
        "id": "ciyYmAb6CGD4",
        "colab_type": "text"
      },
      "source": [
        "Let's just run a bash script `!` to repeat `echo` the python variable `DATASET_URL` from above by using `$DATASET_URL`."
      ]
    },
    {
      "cell_type": "code",
      "metadata": {
        "id": "az3pcK0xBL09",
        "colab_type": "code",
        "colab": {}
      },
      "source": [
        "!echo $DATASET_URL"
      ],
      "execution_count": null,
      "outputs": []
    },
    {
      "cell_type": "markdown",
      "metadata": {
        "id": "lejAgZ46BnJH",
        "colab_type": "text"
      },
      "source": [
        "Here we'll use a bash script `!` to download the file `wget` and the newest version `-N` using the python variable from above with `$DATASET_URL`."
      ]
    },
    {
      "cell_type": "code",
      "metadata": {
        "id": "E9E5v-E8Af1Y",
        "colab_type": "code",
        "colab": {}
      },
      "source": [
        "!wget -N $DATASET_URL"
      ],
      "execution_count": null,
      "outputs": []
    },
    {
      "cell_type": "code",
      "metadata": {
        "id": "8sDJcmQ0DCel",
        "colab_type": "code",
        "colab": {}
      },
      "source": [
        "# !unzip -h"
      ],
      "execution_count": 52,
      "outputs": []
    },
    {
      "cell_type": "markdown",
      "metadata": {
        "id": "y5YX0KbrCzWB",
        "colab_type": "text"
      },
      "source": [
        "Now we'll run a bash script `!` to unzip `!unzip`  and update files (if neccessary) quietly `-uq` from the python variable name `DATASET_NAME` as `$DATASET_NAME` with our destination `-d` being our current directory `.`."
      ]
    },
    {
      "cell_type": "code",
      "metadata": {
        "id": "wTEbYQslAe-z",
        "colab_type": "code",
        "colab": {}
      },
      "source": [
        "!unzip -uq $DATASET_ZIP -d \".\""
      ],
      "execution_count": 24,
      "outputs": []
    },
    {
      "cell_type": "markdown",
      "metadata": {
        "id": "KZBSqC3LD0Et",
        "colab_type": "text"
      },
      "source": [
        "Now let's review, with a bash script `!`, our current directory `ls` to ensure our zip file `$DATASET_ZIP` was unpacked and our `DATASET_NAME` is visable as a directory:"
      ]
    },
    {
      "cell_type": "code",
      "metadata": {
        "id": "LhQQoev-DkyB",
        "colab_type": "code",
        "colab": {}
      },
      "source": [
        "!ls"
      ],
      "execution_count": null,
      "outputs": []
    }
  ]
}
